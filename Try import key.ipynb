{
 "cells": [
  {
   "cell_type": "code",
   "execution_count": 1,
   "metadata": {},
   "outputs": [],
   "source": [
    "import tweepy\n",
    "from keys import *\n",
    "auth =tweepy.OAuthHandler(CONSUMER_KEY, CONSUMER_SECRET)\n",
    "auth.set_access_token(ACCESS_KEY, ACCESS_SECRET)\n",
    "api = tweepy.API(auth)\n"
   ]
  },
  {
   "cell_type": "code",
   "execution_count": 2,
   "metadata": {},
   "outputs": [
    {
     "name": "stdout",
     "output_type": "stream",
     "text": [
      "RT @skptricks: Understanding Object.Freeze() In Javascript\n",
      "https://t.co/Xng4CbQRJi\n",
      "#angularjs\n",
      "#webdevelopment #webdev #developer\n",
      "#100daysof…\n",
      "@mandubian @isaac_abraham @torhovland @fanf42 Code quality/standards are one thing, but I deeply believe that langu… https://t.co/7naZitVIUw\n",
      "RT @jsmanrique: En @Bitergia estamos buscando alguien para el equipo! #Curro #Python #DevOps https://t.co/HlBMqGIBsX\n",
      "RT @CEO_loves_tech: こんなんシェアしかない\n",
      "\n",
      "pythonでのデータ分析時、死ぬほど調べるTipsをまとめておく。 \n",
      "https://t.co/hjYQ8H946K\n",
      "@rt____m_ 赤？！\n",
      "【Python C API入門】C/C++で拡張モジュール作ってPythonから呼ぶ -前編-｜はやぶさの技術ノート https://t.co/mgi89g75tS\n",
      "@python_lady マジかwww\n",
      "(・¬・)ｼﾞｭﾙ\n",
      "(勢力.....←精力じゃね?www\n",
      "RT @ProgrammerBooks: PHP Microservices : https://t.co/oz2jl4Kks8\n",
      "#python #javascript #angular #reactjs #vuejs #perl #ruby #Csharp #Java #li…\n",
      "@gdIV780YlZUpusF 肉は好きですけど500ｇって!!!!逞しすぎる中2坊や(๑&gt;ᴗ&lt;๑)\n",
      "RT @chimbiko_jerome: Buratai is busy dancing with python in #Biafraland, why bokoharam is burning down his village. @NkirukaNistoran https:…\n",
      "RT @VDiUZnM1hUIzKvb: PythonとC言語の連携、いいね。\n",
      "C言語はハードウェア実装時に強く応用できる範囲も広いから、うまく行けばPythonの活動範囲がもっと広がる。 https://t.co/kmpjkGBggd\n",
      "I can't ever decide if python or SQL is the better skill to possess. Assuming I could only choose one.\n",
      "It’s Python politics if that Brexit blow on Theresa May was just a flesh wound: https://t.co/vMeecpLcp2\n",
      "RT @econoar: Eth 2.0 teams and client names.\n",
      "\n",
      "-Prysmatic Labs: Prysm (Go)\n",
      "-ChainSafe: Loadstar (JavaScript)\n",
      "-Status: Nimbus (Nim)\n",
      "-ZK Labs:…\n",
      "A Gem in IT, Allow #Developers to build #applications in various platforms, Quality &amp; Reliability are some qualitie… https://t.co/D9E3vVXGMG\n"
     ]
    }
   ],
   "source": [
    "query=api.search('python')\n",
    "for tweet in query:\n",
    "    print(tweet.text)"
   ]
  },
  {
   "cell_type": "code",
   "execution_count": 3,
   "metadata": {},
   "outputs": [
    {
     "data": {
      "text/plain": [
       "['__add__',\n",
       " '__class__',\n",
       " '__contains__',\n",
       " '__delattr__',\n",
       " '__delitem__',\n",
       " '__dict__',\n",
       " '__dir__',\n",
       " '__doc__',\n",
       " '__eq__',\n",
       " '__format__',\n",
       " '__ge__',\n",
       " '__getattribute__',\n",
       " '__getitem__',\n",
       " '__gt__',\n",
       " '__hash__',\n",
       " '__iadd__',\n",
       " '__imul__',\n",
       " '__init__',\n",
       " '__init_subclass__',\n",
       " '__iter__',\n",
       " '__le__',\n",
       " '__len__',\n",
       " '__lt__',\n",
       " '__module__',\n",
       " '__mul__',\n",
       " '__ne__',\n",
       " '__new__',\n",
       " '__reduce__',\n",
       " '__reduce_ex__',\n",
       " '__repr__',\n",
       " '__reversed__',\n",
       " '__rmul__',\n",
       " '__setattr__',\n",
       " '__setitem__',\n",
       " '__sizeof__',\n",
       " '__str__',\n",
       " '__subclasshook__',\n",
       " '__weakref__',\n",
       " '_max_id',\n",
       " '_since_id',\n",
       " 'append',\n",
       " 'clear',\n",
       " 'completed_in',\n",
       " 'copy',\n",
       " 'count',\n",
       " 'extend',\n",
       " 'ids',\n",
       " 'index',\n",
       " 'insert',\n",
       " 'max_id',\n",
       " 'next_results',\n",
       " 'parse',\n",
       " 'pop',\n",
       " 'query',\n",
       " 'refresh_url',\n",
       " 'remove',\n",
       " 'reverse',\n",
       " 'since_id',\n",
       " 'sort']"
      ]
     },
     "execution_count": 3,
     "metadata": {},
     "output_type": "execute_result"
    }
   ],
   "source": [
    "dir(query)"
   ]
  },
  {
   "cell_type": "code",
   "execution_count": 5,
   "metadata": {},
   "outputs": [
    {
     "data": {
      "text/plain": [
       "tweepy.models.SearchResults"
      ]
     },
     "execution_count": 5,
     "metadata": {},
     "output_type": "execute_result"
    }
   ],
   "source": [
    "type(query)"
   ]
  },
  {
   "cell_type": "code",
   "execution_count": null,
   "metadata": {},
   "outputs": [],
   "source": []
  }
 ],
 "metadata": {
  "kernelspec": {
   "display_name": "Python 3",
   "language": "python",
   "name": "python3"
  },
  "language_info": {
   "codemirror_mode": {
    "name": "ipython",
    "version": 3
   },
   "file_extension": ".py",
   "mimetype": "text/x-python",
   "name": "python",
   "nbconvert_exporter": "python",
   "pygments_lexer": "ipython3",
   "version": "3.7.1"
  }
 },
 "nbformat": 4,
 "nbformat_minor": 2
}
