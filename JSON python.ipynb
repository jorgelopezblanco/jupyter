{
 "cells": [
  {
   "cell_type": "markdown",
   "metadata": {},
   "source": [
    "### JSON in Python \n",
    "https://www.youtube.com/watch?v=pTT7HMqDnJw\n"
   ]
  },
  {
   "cell_type": "code",
   "execution_count": 1,
   "metadata": {},
   "outputs": [],
   "source": [
    "import json\n"
   ]
  },
  {
   "cell_type": "code",
   "execution_count": null,
   "metadata": {},
   "outputs": [],
   "source": []
  },
  {
   "cell_type": "code",
   "execution_count": 2,
   "metadata": {},
   "outputs": [
    {
     "data": {
      "text/plain": [
       "['JSONDecodeError',\n",
       " 'JSONDecoder',\n",
       " 'JSONEncoder',\n",
       " '__all__',\n",
       " '__author__',\n",
       " '__builtins__',\n",
       " '__cached__',\n",
       " '__doc__',\n",
       " '__file__',\n",
       " '__loader__',\n",
       " '__name__',\n",
       " '__package__',\n",
       " '__path__',\n",
       " '__spec__',\n",
       " '__version__',\n",
       " '_default_decoder',\n",
       " '_default_encoder',\n",
       " 'codecs',\n",
       " 'decoder',\n",
       " 'detect_encoding',\n",
       " 'dump',\n",
       " 'dumps',\n",
       " 'encoder',\n",
       " 'load',\n",
       " 'loads',\n",
       " 'scanner']"
      ]
     },
     "execution_count": 2,
     "metadata": {},
     "output_type": "execute_result"
    }
   ],
   "source": [
    "dir(json)"
   ]
  },
  {
   "cell_type": "code",
   "execution_count": 22,
   "metadata": {},
   "outputs": [],
   "source": [
    "#cargamos el fichero\n",
    "import json\n",
    "json_file = open(\"C://Users//Windows10Pro64//Desktop//BIG DATA PROCESSING ED1//movie_1.txt\")\n",
    "movie = json.load(json_file)\n",
    "json_file.close()\n"
   ]
  },
  {
   "cell_type": "code",
   "execution_count": 23,
   "metadata": {},
   "outputs": [
    {
     "data": {
      "text/plain": [
       "{'title': 'Gattaca',\n",
       " 'release_year': 1997,\n",
       " 'is_awesome': True,\n",
       " 'won_oscar': False,\n",
       " 'actors': ['Ethan Hawke', 'Uma Thurman', 'Alan Arkin', 'Loren Dean'],\n",
       " 'budget': None,\n",
       " 'credits': {'director': 'Andrew Niccol',\n",
       "  'writer': 'Andrew Niccol',\n",
       "  'composer': 'Michael Nyman',\n",
       "  'cinematographer': 'Slawomir Idziak'}}"
      ]
     },
     "execution_count": 23,
     "metadata": {},
     "output_type": "execute_result"
    }
   ],
   "source": [
    "movie"
   ]
  },
  {
   "cell_type": "code",
   "execution_count": 24,
   "metadata": {},
   "outputs": [
    {
     "data": {
      "text/plain": [
       "dict"
      ]
     },
     "execution_count": 24,
     "metadata": {},
     "output_type": "execute_result"
    }
   ],
   "source": [
    "type(movie)\n"
   ]
  },
  {
   "cell_type": "code",
   "execution_count": 25,
   "metadata": {},
   "outputs": [
    {
     "data": {
      "text/plain": [
       "['Ethan Hawke', 'Uma Thurman', 'Alan Arkin', 'Loren Dean']"
      ]
     },
     "execution_count": 25,
     "metadata": {},
     "output_type": "execute_result"
    }
   ],
   "source": [
    "movie[\"actors\"]"
   ]
  },
  {
   "cell_type": "code",
   "execution_count": 26,
   "metadata": {},
   "outputs": [
    {
     "data": {
      "text/plain": [
       "{'director': 'Andrew Niccol',\n",
       " 'writer': 'Andrew Niccol',\n",
       " 'composer': 'Michael Nyman',\n",
       " 'cinematographer': 'Slawomir Idziak'}"
      ]
     },
     "execution_count": 26,
     "metadata": {},
     "output_type": "execute_result"
    }
   ],
   "source": [
    "movie[\"credits\"]"
   ]
  },
  {
   "cell_type": "code",
   "execution_count": 27,
   "metadata": {},
   "outputs": [],
   "source": [
    "value=\"\"\"\n",
    "{\"title\":\"Tron: Legacy\", \n",
    "\"composer\":\"Daft Punk\",\"release_year\":2010,\n",
    "\"budget\":170000000,\"actors\":null,\n",
    "\"won_oscar\":false\n",
    "}\"\"\""
   ]
  },
  {
   "cell_type": "code",
   "execution_count": 28,
   "metadata": {},
   "outputs": [],
   "source": [
    "tron=json.loads(value)"
   ]
  },
  {
   "cell_type": "code",
   "execution_count": 29,
   "metadata": {},
   "outputs": [
    {
     "data": {
      "text/plain": [
       "{'title': 'Tron: Legacy',\n",
       " 'composer': 'Daft Punk',\n",
       " 'release_year': 2010,\n",
       " 'budget': 170000000,\n",
       " 'actors': None,\n",
       " 'won_oscar': False}"
      ]
     },
     "execution_count": 29,
     "metadata": {},
     "output_type": "execute_result"
    }
   ],
   "source": [
    "tron"
   ]
  },
  {
   "cell_type": "code",
   "execution_count": 30,
   "metadata": {},
   "outputs": [
    {
     "data": {
      "text/plain": [
       "dict"
      ]
     },
     "execution_count": 30,
     "metadata": {},
     "output_type": "execute_result"
    }
   ],
   "source": [
    "type(tron)"
   ]
  },
  {
   "cell_type": "code",
   "execution_count": 31,
   "metadata": {},
   "outputs": [],
   "source": [
    "movie2={}\n",
    "movie2[\"title\"]=\"Minority Report\"\n",
    "movie2[\"director\"]=\"Steven Spielberg\"\n",
    "movie2[\"composer\"]=\"John Williams\"\n",
    "movie2[\"actors\"]=[\"Tom Cruise\",\"Colin Farrell\",\"Samantha Morton\",\"Max von Sydow\"]\n",
    "movie2[\"is_awesome\"]=True\n",
    "movie2[\"budget\"]=102000000\n",
    "movie2[\"cinematographer\"]=\"Janusz Kami\\u0144ski\""
   ]
  },
  {
   "cell_type": "code",
   "execution_count": null,
   "metadata": {},
   "outputs": [],
   "source": []
  },
  {
   "cell_type": "code",
   "execution_count": 34,
   "metadata": {},
   "outputs": [],
   "source": [
    "file2 = open(\"C://Users//Windows10Pro64//Desktop//BIG DATA PROCESSING ED1//movie_2.txt\", \"w\", encoding=\"utf-8\")\n",
    "json.dump(movie2, file2, ensure_ascii=False)\n",
    "file2.close()"
   ]
  },
  {
   "cell_type": "code",
   "execution_count": 35,
   "metadata": {},
   "outputs": [
    {
     "data": {
      "text/plain": [
       "{'title': 'Minority Report',\n",
       " 'director': 'Steven Spielberg',\n",
       " 'composer': 'John Williams',\n",
       " 'actors': ['Tom Cruise', 'Colin Farrell', 'Samantha Morton', 'Max von Sydow'],\n",
       " 'is_awesome': True,\n",
       " 'budget': 102000000,\n",
       " 'cinematographer': 'Janusz Kamiński'}"
      ]
     },
     "execution_count": 35,
     "metadata": {},
     "output_type": "execute_result"
    }
   ],
   "source": [
    "movie2"
   ]
  },
  {
   "cell_type": "code",
   "execution_count": null,
   "metadata": {},
   "outputs": [],
   "source": []
  }
 ],
 "metadata": {
  "kernelspec": {
   "display_name": "Python 3",
   "language": "python",
   "name": "python3"
  },
  "language_info": {
   "codemirror_mode": {
    "name": "ipython",
    "version": 3
   },
   "file_extension": ".py",
   "mimetype": "text/x-python",
   "name": "python",
   "nbconvert_exporter": "python",
   "pygments_lexer": "ipython3",
   "version": "3.7.1"
  }
 },
 "nbformat": 4,
 "nbformat_minor": 2
}
