{
 "cells": [
  {
   "cell_type": "markdown",
   "metadata": {},
   "source": [
    "### Twitter REST API\n",
    "\n",
    "Exiten limitaciones en el número de veces que se puede usar cada endpoint con mismo otken de acceso. Esta limitación se mide en intervalos de 15 minutos.Por lo tanto, si un endpoint tiene un límite de 15 peticiones por intervalo, significa que únicamente podemos lanzar hasta 15 peticiones con el mismo token ae acceso.Una vez superado ese máximo debemos esperar una nueva ventana de tiempo.\n",
    "\n",
    "#### search/tweets\n",
    "\n",
    "Se le pasa como argumento una cada de carácteres q y devolvera hasta los 100 tuits que contengan q. Se pueden escoger otras opciones como el idioma de los tuits, su fecha de publicación máxima etc. Los tuits devueltos entredan un antiguedad máxima de una semana, para obtener tuits más antigúos es necesario utilizar otros métodos.\n",
    "\n",
    "También merece la pena mencionar que la búsqueda no es exhaustiva y no todos los tuis serán devueltos. Sobre todos tuis publicados por cuentas recientes que apenas tengan seguirores a menudo no estarán correctamente indexados y no serán devueltos por la API.\n",
    "\n",
    "180 peticiones por intervalo 180x15x100= 270.000 tuits."
   ]
  },
  {
   "cell_type": "markdown",
   "metadata": {},
   "source": [
    "### JSON\n",
    "\n",
    "Todos los resultados devueltos por la REST API de Twiiter se encuentran en formato JSON.\n"
   ]
  },
  {
   "cell_type": "code",
   "execution_count": 3,
   "metadata": {},
   "outputs": [
    {
     "name": "stderr",
     "output_type": "stream",
     "text": [
      "UsageError: Line magic function `%HOME` not found.\n"
     ]
    }
   ],
   "source": []
  },
  {
   "cell_type": "code",
   "execution_count": null,
   "metadata": {},
   "outputs": [],
   "source": []
  }
 ],
 "metadata": {
  "kernelspec": {
   "display_name": "Python 3",
   "language": "python",
   "name": "python3"
  },
  "language_info": {
   "codemirror_mode": {
    "name": "ipython",
    "version": 3
   },
   "file_extension": ".py",
   "mimetype": "text/x-python",
   "name": "python",
   "nbconvert_exporter": "python",
   "pygments_lexer": "ipython3",
   "version": "3.7.1"
  }
 },
 "nbformat": 4,
 "nbformat_minor": 2
}
