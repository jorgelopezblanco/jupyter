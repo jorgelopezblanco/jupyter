{
 "cells": [
  {
   "cell_type": "code",
   "execution_count": null,
   "metadata": {},
   "outputs": [],
   "source": [
    "CONSUMER_KEY = 'nfcNu5mb925cpERcbQbpGWxsi'\n",
    "CONSUMER_SECRET = 'DSn9hWFZM79nmAovlNGFV2mg29O3WRlxPNggMM9GcYh3uNT6eP'\n",
    "ACCESS_KEY = '292908760-wGSl6T8euoKJ0NHda9FLGLkaOUnq8vRxFnXRQK6u'\n",
    "ACCESS_SECRET = 'sIgDEnXMP11b0u5QlT37gTJOoNvyRgdbI2A5lKpzOFw16'\n"
   ]
  }
 ],
 "metadata": {
  "kernelspec": {
   "display_name": "Python 3",
   "language": "python",
   "name": "python3"
  },
  "language_info": {
   "codemirror_mode": {
    "name": "ipython",
    "version": 3
   },
   "file_extension": ".py",
   "mimetype": "text/x-python",
   "name": "python",
   "nbconvert_exporter": "python",
   "pygments_lexer": "ipython3",
   "version": "3.7.1"
  }
 },
 "nbformat": 4,
 "nbformat_minor": 2
}
